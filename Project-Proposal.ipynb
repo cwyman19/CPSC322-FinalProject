{
 "cells": [
  {
   "cell_type": "markdown",
   "metadata": {},
   "source": [
    "# CPSC 322 Final Project: Predicting NFL Games\n",
    "## By Charlie Wyman and Jillian Berry"
   ]
  },
  {
   "cell_type": "markdown",
   "metadata": {},
   "source": [
    "Dataset source: https://www.pro-football-reference.com/teams/\n",
    "\n",
    "This data is formatted as a table showing the historical averages  \n",
    "of individual teams' data, where each instance of the data is a team.  \n",
    "The data for each team includes win totals, loss totals,  \n",
    "win/loss percentage, playoff wins, super bowl wins and more.  \n",
    "\n",
    "Each team name is a link to a different table of that team's  \n",
    "historical data, where each instance is a full season/year.  \n",
    "This table includes far more detailed information on the team's  \n",
    "performance each season. Each instance provides information such  \n",
    "as:\n",
    "* Win/Loss totals\n",
    "* Total points scored\n",
    "* Total points allowed \n",
    "* Offensive rank (out of 32)\n",
    "    * Seperated into points and yards\n",
    "* Defensive rank (out of 32)\n",
    "    * Seperated into points and yards\n",
    "* Overall ranks in:\n",
    "    * Points differential\n",
    "    * Yards differential\n",
    "    * Turnovers differential\n",
    "* Strength of schedule\n",
    "* Margin of victory\n",
    "* Simple Rating System - a value determined by an algorithm provided by Pro Football Focus "
   ]
  }
 ],
 "metadata": {
  "language_info": {
   "name": "python"
  }
 },
 "nbformat": 4,
 "nbformat_minor": 2
}
