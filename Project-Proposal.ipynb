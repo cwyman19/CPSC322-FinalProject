{
 "cells": [
  {
   "cell_type": "markdown",
   "metadata": {},
   "source": [
    "# CPSC 322 Final Project: Predicting NFL Games\n",
    "## By Charlie Wyman and Jillian Berry"
   ]
  },
  {
   "cell_type": "markdown",
   "metadata": {},
   "source": [
    "### Dataset\n",
    "\n",
    "Dataset source: https://www.pro-football-reference.com/teams/\n",
    "\n",
    "This data is formatted as a table showing the historical averages  \n",
    "of individual teams' data, where each instance of the data is a team.  \n",
    "The data for each team includes win totals, loss totals,  \n",
    "win/loss percentage, playoff wins, super bowl wins and more.  \n",
    "\n",
    "Each team name is a link to a different table of that team's  \n",
    "historical data, where each instance is a full season/year.  \n",
    "This table includes far more detailed information on the team's  \n",
    "performance each season. Each instance provides information such  \n",
    "as:\n",
    "* Win/Loss totals\n",
    "* Total points scored\n",
    "* Total points allowed \n",
    "* Offensive rank (out of 32)\n",
    "    * Seperated into points and yards\n",
    "* Defensive rank (out of 32)\n",
    "    * Seperated into points and yards\n",
    "* Overall ranks in:\n",
    "    * Points differential\n",
    "    * Yards differential\n",
    "    * Turnovers differential\n",
    "* Strength of schedule\n",
    "* Margin of victory\n",
    "* Simple Rating System - a value determined by an algorithm provided by Pro Football Focus\n",
    "\n",
    "The class attribute we are going to try to predict is Win/Loss for an unseen instance (upcoming game)\n"
   ]
  },
  {
   "cell_type": "markdown",
   "metadata": {},
   "source": [
    "### Implementation/technical merit\n",
    "\n",
    "1. Anticipated challenges in pre-processing and/or classification  \n",
    "(To be completed)\n",
    "\n",
    "\n",
    "2. If the number of attributes is large, how will you explore feature selection techniques to pare down the attributes?  \n",
    "(To be completed)\n"
   ]
  },
  {
   "cell_type": "markdown",
   "metadata": {},
   "source": [
    "### Potential impact of the results\n",
    "\n",
    "1. Why are these results useful?  \n",
    "* These results are useful because they can be used to predict future NFL games\n",
    "(To be completed)\n",
    "\n",
    "\n",
    "2. Who are stakeholders (users/groups that are impacted by the outcome of the project) interested in these results?  \n",
    "* Sports betters\n",
    "* Sports gambling companies\n",
    "(To be completed)"
   ]
  }
 ],
 "metadata": {
  "language_info": {
   "name": "python"
  }
 },
 "nbformat": 4,
 "nbformat_minor": 2
}
