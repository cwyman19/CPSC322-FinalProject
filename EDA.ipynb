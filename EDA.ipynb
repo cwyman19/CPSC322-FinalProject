{
 "cells": [
  {
   "cell_type": "code",
   "execution_count": 1,
   "metadata": {},
   "outputs": [
    {
     "data": {
      "text/plain": [
       "<module 'mysklearn.myutils' from '/root/CPSC322-FinalProject-2/mysklearn/myutils.py'>"
      ]
     },
     "execution_count": 1,
     "metadata": {},
     "output_type": "execute_result"
    }
   ],
   "source": [
    "import mysklearn.mypytable as mypytable\n",
    "import importlib\n",
    "importlib.reload(mypytable)\n",
    "\n",
    "import matplotlib.pyplot as plt\n",
    "importlib.reload(mypytable)\n",
    "\n",
    "import mysklearn.myclassifiers as myclassifier\n",
    "importlib.reload(myclassifier)\n",
    "\n",
    "import mysklearn.myevaluation as myevaluation\n",
    "importlib.reload(myevaluation)\n",
    "\n",
    "import mysklearn.myutils as myutils\n",
    "importlib.reload(myutils)\n",
    "\n"
   ]
  },
  {
   "cell_type": "code",
   "execution_count": 2,
   "metadata": {},
   "outputs": [
    {
     "ename": "NameError",
     "evalue": "name 'data' is not defined",
     "output_type": "error",
     "traceback": [
      "\u001b[0;31m---------------------------------------------------------------------------\u001b[0m",
      "\u001b[0;31mNameError\u001b[0m                                 Traceback (most recent call last)",
      "Cell \u001b[0;32mIn[2], line 2\u001b[0m\n\u001b[1;32m      1\u001b[0m \u001b[38;5;66;03m#classifier\u001b[39;00m\n\u001b[0;32m----> 2\u001b[0m X_train \u001b[38;5;241m=\u001b[39m data\u001b[38;5;241m.\u001b[39mfind_columns([\u001b[38;5;124m\"\u001b[39m\u001b[38;5;124mWinPercentage\u001b[39m\u001b[38;5;124m\"\u001b[39m, \u001b[38;5;124m\"\u001b[39m\u001b[38;5;124mRushYards\u001b[39m\u001b[38;5;124m\"\u001b[39m, \u001b[38;5;124m\"\u001b[39m\u001b[38;5;124mPassYards\u001b[39m\u001b[38;5;124m\"\u001b[39m, \u001b[38;5;124m\"\u001b[39m\u001b[38;5;124mScoring\u001b[39m\u001b[38;5;124m\"\u001b[39m, \u001b[38;5;124m\"\u001b[39m\u001b[38;5;124mRushYardsAllowed\u001b[39m\u001b[38;5;124m\"\u001b[39m,\u001b[38;5;124m\"\u001b[39m\u001b[38;5;124mPassYardsAllowed\u001b[39m\u001b[38;5;124m\"\u001b[39m, \u001b[38;5;124m\"\u001b[39m\u001b[38;5;124mDefenseScoringAllowed\u001b[39m\u001b[38;5;124m\"\u001b[39m, \u001b[38;5;124m\"\u001b[39m\u001b[38;5;124mKickingPercentage\u001b[39m\u001b[38;5;124m\"\u001b[39m, \u001b[38;5;124m\"\u001b[39m\u001b[38;5;124mTurnoverMargin\u001b[39m\u001b[38;5;124m\"\u001b[39m] )\n\u001b[1;32m      3\u001b[0m y_train \u001b[38;5;241m=\u001b[39m data\u001b[38;5;241m.\u001b[39mfind_columns([\u001b[38;5;124m\"\u001b[39m\u001b[38;5;124mWinner\u001b[39m\u001b[38;5;124m\"\u001b[39m])\n\u001b[1;32m      4\u001b[0m \u001b[38;5;66;03m# y_train = myevaluation.stratified_kfold_split(X_train, y_train, )\u001b[39;00m\n",
      "\u001b[0;31mNameError\u001b[0m: name 'data' is not defined"
     ]
    }
   ],
   "source": [
    "#classifier\n",
    "X_train = data.find_columns([\"WinPercentage\", \"RushYards\", \"PassYards\", \"Scoring\", \"RushYardsAllowed\",\"PassYardsAllowed\", \"DefenseScoringAllowed\", \"KickingPercentage\", \"TurnoverMargin\"] )\n",
    "y_train = data.find_columns([\"Winner\"])\n",
    "# y_train = myevaluation.stratified_kfold_split(X_train, y_train, )\n",
    "myutils.cross_val_predict(X_train, y_train, k=3, stratify=10)\n",
    "tree = myclassifier.MyDecisionTreeClassifier()\n",
    "\n",
    "tree.fit(X_train, y_train)\n",
    "print(tree.tree)\n",
    "#Season,Week,HomeTeam,AwayTeam,WinPercentage,RushYards,PassYards,Scoring,RushYardsAllowed,PassYardsAllowed,DefenseScoringAllowed,DefenseScoringAllowed,TurnoverMargin,Winner"
   ]
  }
 ],
 "metadata": {
  "kernelspec": {
   "display_name": "base",
   "language": "python",
   "name": "python3"
  },
  "language_info": {
   "codemirror_mode": {
    "name": "ipython",
    "version": 3
   },
   "file_extension": ".py",
   "mimetype": "text/x-python",
   "name": "python",
   "nbconvert_exporter": "python",
   "pygments_lexer": "ipython3",
   "version": "3.12.4"
  }
 },
 "nbformat": 4,
 "nbformat_minor": 2
}
