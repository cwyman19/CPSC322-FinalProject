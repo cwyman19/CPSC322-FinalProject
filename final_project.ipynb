{
 "cells": [
  {
   "cell_type": "code",
   "execution_count": 1,
   "metadata": {},
   "outputs": [
    {
     "data": {
      "text/plain": [
       "<module 'mysklearn.myevaluation' from '/root/CPSC322-FinalProject-1/mysklearn/myevaluation.py'>"
      ]
     },
     "execution_count": 1,
     "metadata": {},
     "output_type": "execute_result"
    }
   ],
   "source": [
    "import mysklearn.mypytable as mypytable\n",
    "import importlib\n",
    "importlib.reload(mypytable)\n",
    "\n",
    "import matplotlib.pyplot as plt\n",
    "importlib.reload(mypytable)\n",
    "\n",
    "import mysklearn.myclassifiers as myclassifier\n",
    "importlib.reload(myclassifier)\n",
    "\n",
    "import mysklearn.myevaluation as myevaluation\n",
    "importlib.reload(myevaluation)\n",
    "\n",
    "\n"
   ]
  },
  {
   "cell_type": "code",
   "execution_count": 2,
   "metadata": {},
   "outputs": [],
   "source": [
    "nfl_season = mypytable.MyPyTable()\n",
    "nfl_season.load_from_file(\"input_data/NFL_regseason_data_clean.csv\")\n",
    "classifier_column = nfl_season.get_column(\"Winner\")\n"
   ]
  }
 ],
 "metadata": {
  "kernelspec": {
   "display_name": "base",
   "language": "python",
   "name": "python3"
  },
  "language_info": {
   "codemirror_mode": {
    "name": "ipython",
    "version": 3
   },
   "file_extension": ".py",
   "mimetype": "text/x-python",
   "name": "python",
   "nbconvert_exporter": "python",
   "pygments_lexer": "ipython3",
   "version": "3.12.4"
  }
 },
 "nbformat": 4,
 "nbformat_minor": 2
}
