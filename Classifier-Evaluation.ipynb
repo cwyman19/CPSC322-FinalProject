{
 "cells": [
  {
   "cell_type": "markdown",
   "metadata": {},
   "source": [
    "# CPSC 322\n",
    "## Final Project\n",
    "### Classifier Tests and Evaluation"
   ]
  },
  {
   "cell_type": "code",
   "execution_count": 36,
   "metadata": {},
   "outputs": [],
   "source": [
    "# some useful mysklearn package import statements and reloads\n",
    "import importlib\n",
    "\n",
    "import mysklearn.myutils\n",
    "importlib.reload(mysklearn.myutils)\n",
    "import mysklearn.myutils as myutils\n",
    "\n",
    "# uncomment once you paste your mypytable.py into mysklearn package\n",
    "import mysklearn.mypytable\n",
    "importlib.reload(mysklearn.mypytable)\n",
    "from mysklearn.mypytable import MyPyTable \n",
    "\n",
    "# uncomment once you paste your myclassifiers.py into mysklearn package\n",
    "import mysklearn.myclassifiers\n",
    "importlib.reload(mysklearn.myclassifiers)\n",
    "from mysklearn.myclassifiers import MyKNeighborsClassifier, MyDummyClassifier, MyNaiveBayesClassifier, MyDecisionTreeClassifier, MyRandomForestClassifier\n",
    "\n",
    "import mysklearn.myevaluation\n",
    "importlib.reload(mysklearn.myevaluation)\n",
    "import mysklearn.myevaluation as myevaluation\n"
   ]
  },
  {
   "cell_type": "markdown",
   "metadata": {},
   "source": [
    "### Creating dataset and classifiers"
   ]
  },
  {
   "cell_type": "code",
   "execution_count": 37,
   "metadata": {},
   "outputs": [],
   "source": [
    "# Creating data and classifiers \n",
    "\n",
    "my_dataset = MyPyTable().load_from_file(\"input_data/NFL_regseason_data_clean.csv\")\n",
    "\n",
    "X_data = []\n",
    "for row in my_dataset.data: # Creating X_data\n",
    "    new_row = []\n",
    "    new_row.append(row[my_dataset.column_names.index('WinPercentage')])\n",
    "    new_row.append(row[my_dataset.column_names.index('RushYards')])\n",
    "    new_row.append(row[my_dataset.column_names.index('PassYards')])\n",
    "    new_row.append(row[my_dataset.column_names.index('Scoring')])\n",
    "    new_row.append(row[my_dataset.column_names.index('RushYardsAllowed')])\n",
    "    new_row.append(row[my_dataset.column_names.index('PassYardsAllowed')])\n",
    "    new_row.append(row[my_dataset.column_names.index('DefenseScoringAllowed')])\n",
    "    new_row.append(row[my_dataset.column_names.index('KickingPercentage')])\n",
    "    new_row.append(row[my_dataset.column_names.index('TurnoverMargin')])\n",
    "\n",
    "    X_data.append(new_row)\n",
    "\n",
    "y_data = my_dataset.get_column('Winner') #Creating y_data\n",
    "\n",
    "NFL_Bayes_Classifier = MyNaiveBayesClassifier()\n",
    "NFL_Knn_Classifier = MyKNeighborsClassifier()\n",
    "NFL_Tree_Classifier = MyDecisionTreeClassifier()\n",
    "NFL_Forest_Classifier = MyRandomForestClassifier()"
   ]
  },
  {
   "cell_type": "markdown",
   "metadata": {},
   "source": [
    "### Using K-fold Cross Validation on Classifiers"
   ]
  },
  {
   "cell_type": "code",
   "execution_count": 38,
   "metadata": {},
   "outputs": [],
   "source": [
    "X_folds = myevaluation.kfold_split(X_data, 10)\n",
    "y_folds = myevaluation.kfold_split(y_data, 10)\n",
    "total_knn_accuracy, total_bayes_accuracy, total_tree_accuracy, total_forest_accuracy = 0, 0, 0, 0\n",
    "knn_precision, bayes_precision, tree_precision, forest_precision = 0, 0, 0,0\n",
    "knn_recall, bayes_recall, tree_recall, forest_recall = 0, 0, 0,0\n",
    "knn_F1, bayes_F1, tree_F1, forest_F1 = 0, 0, 0,0\n",
    "knn_predictions, bayes_predictions, tree_predictions, forest_predictions = [], [], [], []\n",
    "\n",
    "\n",
    "for i in range(len(X_folds)): # loop for kfold cross validation (through all three classifiers)\n",
    "    X_train, X_test, y_train, y_test = myutils.create_data(X_folds[i], y_folds[i], X_data, y_data)\n",
    "    NFL_Bayes_Classifier.fit(X_train, y_train)\n",
    "    NFL_Knn_Classifier.fit(X_train, y_train, type=\"discrete\")\n",
    "    NFL_Tree_Classifier.fit(X_train, y_train)\n",
    "    NFL_Forest_Classifier.fit(X_train, y_train, 50, 5, 40)\n",
    "\n",
    "    y_knn_pred = NFL_Knn_Classifier.predict(X_test)\n",
    "    y_bayes_pred = NFL_Bayes_Classifier.predict(X_test)\n",
    "    y_tree_pred = NFL_Tree_Classifier.predict(X_test)\n",
    "    y_forest_pred = NFL_Forest_Classifier.predict(X_test)\n",
    "\n",
    "    # Accuracy Calculations\n",
    "    total_knn_accuracy += myevaluation.accuracy_score(y_knn_pred, y_test) / 10\n",
    "    total_bayes_accuracy += myevaluation.accuracy_score(y_bayes_pred, y_test) / 10\n",
    "    total_tree_accuracy += myevaluation.accuracy_score(y_tree_pred, y_test) / 10\n",
    "    total_forest_accuracy += myevaluation.accuracy_score(y_forest_pred, y_test) / 10\n",
    "\n",
    "    # Precision Calculations\n",
    "    knn_precision += myevaluation.binary_precision_score(y_knn_pred, y_test, pos_label=\"H\") / 10\n",
    "    bayes_precision += myevaluation.binary_precision_score(y_bayes_pred, y_test, pos_label=\"H\") / 10\n",
    "    tree_precision += myevaluation.binary_precision_score(y_tree_pred, y_test, pos_label=\"H\") / 10\n",
    "    forest_precision += myevaluation.binary_precision_score(y_forest_pred, y_test, pos_label=\"H\") / 10\n",
    "\n",
    "    # Recall Calculations \n",
    "    knn_recall += myevaluation.binary_recall_score(y_knn_pred, y_test, pos_label=\"H\") / 10\n",
    "    bayes_recall += myevaluation.binary_recall_score(y_bayes_pred, y_test, pos_label=\"H\") / 10\n",
    "    tree_recall += myevaluation.binary_recall_score(y_tree_pred, y_test, pos_label=\"H\") / 10\n",
    "    forest_recall += myevaluation.binary_recall_score(y_forest_pred, y_test, pos_label=\"H\") / 10\n",
    "\n",
    "    # F1 Calculations\n",
    "    knn_F1 += myevaluation.binary_f1_score(y_knn_pred, y_test, pos_label=\"H\") / 10\n",
    "    bayes_F1 += myevaluation.binary_f1_score(y_bayes_pred, y_test, pos_label=\"H\") / 10\n",
    "    tree_F1 += myevaluation.binary_f1_score(y_tree_pred, y_test, pos_label=\"H\") / 10\n",
    "    forest_F1 += myevaluation.binary_f1_score(y_forest_pred, y_test, pos_label=\"H\") / 10\n",
    "    # Building Confusion Matrices\n",
    "    for prediction in y_knn_pred:\n",
    "        knn_predictions.append(prediction)\n",
    "    for prediction in y_bayes_pred:\n",
    "        bayes_predictions.append(prediction)\n",
    "    for prediction in y_tree_pred:\n",
    "        tree_predictions.append(prediction)\n",
    "    for prediction in y_forest_pred:\n",
    "        forest_predictions.append(prediction)\n"
   ]
  },
  {
   "cell_type": "markdown",
   "metadata": {},
   "source": [
    "### Showing Classifier Performance"
   ]
  },
  {
   "cell_type": "code",
   "execution_count": null,
   "metadata": {},
   "outputs": [
    {
     "name": "stdout",
     "output_type": "stream",
     "text": [
      "------- Knn Classifier -------\n",
      "Accuracy:  0.54 | Error Rate:  0.46\n",
      "Precision :  0.84 | Recall:  0.55 | F1 measure:  0.64\n",
      "Knn Confusion Matrix: \n",
      "+-------+------+-----+-------+\n",
      "|       | H    | A   | total |\n",
      "+-------+------+-----+-------+\n",
      "| H     | 806  | 143 | 949   |\n",
      "+-------+------+-----+-------+\n",
      "| A     | 664  | 149 | 813   |\n",
      "+-------+------+-----+-------+\n",
      "| total | 1470 | 292 | 1762  |\n",
      "+-------+------+-----+-------+\n",
      "\n",
      "------- Bayes Classifier -------\n",
      "Accuracy:  0.6 | Error Rate:  0.4\n",
      "Precision :  0.69 | Recall:  0.61 | F1 measure:  0.65\n",
      "Bayes Confusion Matrix: \n",
      "+-------+------+-----+-------+\n",
      "|       | H    | A   | total |\n",
      "+-------+------+-----+-------+\n",
      "| H     | 653  | 296 | 949   |\n",
      "+-------+------+-----+-------+\n",
      "| A     | 414  | 399 | 813   |\n",
      "+-------+------+-----+-------+\n",
      "| total | 1067 | 695 | 1762  |\n",
      "+-------+------+-----+-------+\n",
      "\n",
      "------- Decision Tree Classifier -------\n",
      "Accuracy:  0.67 | Error Rate:  0.33\n",
      "Precision :  0.67 | Recall:  0.7 | F1 measure:  0.68\n",
      "Tree Confusion Matrix: \n",
      "+-------+-----+-----+-------+\n",
      "|       | H   | A   | total |\n",
      "+-------+-----+-----+-------+\n",
      "| H     | 638 | 311 | 949   |\n",
      "+-------+-----+-----+-------+\n",
      "| A     | 276 | 537 | 813   |\n",
      "+-------+-----+-----+-------+\n",
      "| total | 914 | 848 | 1762  |\n",
      "+-------+-----+-----+-------+\n",
      "\n",
      "0.6736614021571647\n",
      "------- Random Forest Classifier -------\n",
      "Accuracy:  0.67 | Error Rate:  0.33\n",
      "Precision :  0.68 | Recall:  0.7 | F1 measure:  0.68\n",
      "Tree Confusion Matrix: \n",
      "+-------+-----+-----+-------+\n",
      "|       | H   | A   | total |\n",
      "+-------+-----+-----+-------+\n",
      "| H     | 646 | 303 | 949   |\n",
      "+-------+-----+-----+-------+\n",
      "| A     | 272 | 541 | 813   |\n",
      "+-------+-----+-----+-------+\n",
      "| total | 918 | 844 | 1762  |\n",
      "+-------+-----+-----+-------+\n"
     ]
    }
   ],
   "source": [
    "print(\"------- Knn Classifier -------\")\n",
    "print(\"Accuracy: \", round(total_knn_accuracy, 2), \"| Error Rate: \", round(1 - total_knn_accuracy, 2))\n",
    "print(\"Precision : \", round(knn_precision, 2), \"| Recall: \", round(knn_recall, 2), \"| F1 measure: \", round(knn_F1, 2))\n",
    "print(\"Knn Confusion Matrix: \")\n",
    "myutils.print_matrix(myevaluation.confusion_matrix(y_data, knn_predictions, [\"H\", \"A\"]), [\"H\", \"A\"])\n",
    "print()\n",
    "print(\"------- Bayes Classifier -------\")\n",
    "print(\"Accuracy: \", round(total_bayes_accuracy, 2), \"| Error Rate: \", round(1 - total_bayes_accuracy, 2))\n",
    "print(\"Precision : \", round(bayes_precision, 2), \"| Recall: \", round(bayes_recall, 2), \"| F1 measure: \", round(bayes_F1, 2))\n",
    "print(\"Bayes Confusion Matrix: \")\n",
    "myutils.print_matrix(myevaluation.confusion_matrix(y_data, bayes_predictions, [\"H\", \"A\"]), [\"H\", \"A\"])\n",
    "print()\n",
    "print(\"------- Decision Tree Classifier -------\")\n",
    "print(\"Accuracy: \", round(total_tree_accuracy, 2), \"| Error Rate: \", round(1 - total_tree_accuracy, 2))\n",
    "print(\"Precision : \", round(tree_precision, 2), \"| Recall: \", round(tree_recall, 2), \"| F1 measure: \", round(tree_F1, 2))\n",
    "print(\"Tree Confusion Matrix: \")\n",
    "myutils.print_matrix(myevaluation.confusion_matrix(y_data, tree_predictions, [\"H\", \"A\"]), [\"H\", \"A\"])\n",
    "print()\n",
    "print(total_forest_accuracy)\n",
    "print(\"------- Random Forest Classifier -------\")\n",
    "print(\"Accuracy: \", round(total_forest_accuracy, 2), \"| Error Rate: \", round(1 - total_forest_accuracy, 2))\n",
    "print(\"Precision : \", round(forest_precision, 2), \"| Recall: \", round(forest_recall, 2), \"| F1 measure: \", round(tree_F1, 2))\n",
    "print(\"Tree Confusion Matrix: \")\n",
    "myutils.print_matrix(myevaluation.confusion_matrix(y_data, forest_predictions, [\"H\", \"A\"]), [\"H\", \"A\"])\n"
   ]
  },
  {
   "cell_type": "markdown",
   "metadata": {},
   "source": []
  },
  {
   "cell_type": "markdown",
   "metadata": {},
   "source": [
    "### Decision Tree Ruleset"
   ]
  },
  {
   "cell_type": "code",
   "execution_count": 40,
   "metadata": {},
   "outputs": [
    {
     "name": "stdout",
     "output_type": "stream",
     "text": [
      "[<mysklearn.myclassifiers.MyDecisionTreeClassifier object at 0x7f0b0896ede0>]\n"
     ]
    }
   ],
   "source": [
    "NFL_Tree_Classifier.fit(X_train, y_train)\n",
    "#NFL_Tree_Classifier.print_decision_rules(class_name=\"Winner\")\n",
    "NFL_Forest_Classifier.fit(X=X_train, y=y_train)\n",
    "print(NFL_Forest_Classifier.forest)\n",
    "\n",
    "#print(NFL_Tree_Classifier.tree)"
   ]
  }
 ],
 "metadata": {
  "kernelspec": {
   "display_name": "base",
   "language": "python",
   "name": "python3"
  },
  "language_info": {
   "codemirror_mode": {
    "name": "ipython",
    "version": 3
   },
   "file_extension": ".py",
   "mimetype": "text/x-python",
   "name": "python",
   "nbconvert_exporter": "python",
   "pygments_lexer": "ipython3",
   "version": "3.12.4"
  }
 },
 "nbformat": 4,
 "nbformat_minor": 2
}
